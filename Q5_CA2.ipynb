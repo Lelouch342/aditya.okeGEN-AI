import pandas as pd
import numpy as np

def generate_model_data(num_records=100):
    """Generate a DataFrame with random values for COVID-19 symptoms."""
    np.random.seed(0)  # For reproducibility
    data = {
        'Fever': np.random.randint(0, 11, size=num_records),
        'Cold': np.random.randint(0, 11, size=num_records),
        'Shivering': np.random.randint(0, 11, size=num_records),
        'Weight Loss': np.random.randint(0, 11, size=num_records),
    }
    df = pd.DataFrame(data)
    return df

def display_sorted_data(df, sort_by):
    """Display the DataFrame sorted by a specified parameter."""
    if sort_by not in df.columns:
        raise ValueError(f"Invalid parameter '{sort_by}'. Choose from {df.columns.tolist()}.")
    
    sorted_df = df.sort_values(by=sort_by)
    print(f"Data sorted by {sort_by}:")
    print(sorted_df.to_string(index=False))

def main():
    num_records = 100
    df = generate_model_data(num_records)
    
    # Display the first few rows of the generated data
    print("Generated Data:")
    print(df.head())
    
    # Sort and display based on a user input parameter
    sort_by = input("Enter the parameter to sort by (Fever, Cold, Shivering, Weight Loss): ")
    try:
        display_sorted_data(df, sort_by)
    except ValueError as e:
        print(e)

if __name__ == "__main__":
    main()
